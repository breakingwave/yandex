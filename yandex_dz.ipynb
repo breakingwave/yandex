{
 "cells": [
  {
   "cell_type": "markdown",
   "metadata": {},
   "source": [
    "# RFM-анализ пользовательской активности"
   ]
  },
  {
   "cell_type": "markdown",
   "metadata": {},
   "source": [
    "### Ипортируем библиотеки и загрузим данные.\n",
    "### Для работы с большим датасетом используем Dask"
   ]
  },
  {
   "cell_type": "code",
   "execution_count": 55,
   "metadata": {},
   "outputs": [],
   "source": [
    "\n",
    "import pandas as pd\n",
    "import numpy as np\n",
    "import matplotlib.pyplot as plt\n",
    "import seaborn as sns\n",
    "color = sns.color_palette()"
   ]
  },
  {
   "cell_type": "code",
   "execution_count": 2,
   "metadata": {},
   "outputs": [
    {
     "name": "stdout",
     "output_type": "stream",
     "text": [
      "Populating the interactive namespace from numpy and matplotlib\n"
     ]
    }
   ],
   "source": [
    "%pylab inline"
   ]
  },
  {
   "cell_type": "code",
   "execution_count": 3,
   "metadata": {},
   "outputs": [
    {
     "name": "stdout",
     "output_type": "stream",
     "text": [
      "CPU times: user 3 µs, sys: 1e+03 ns, total: 4 µs\n",
      "Wall time: 7.15 µs\n"
     ]
    }
   ],
   "source": [
    "%time\n",
    "import dask.dataframe as dd\n",
    "df = dd.read_table('rfm.tsv', sep = '\\t', \n",
    "                 names = ['timestamp', 'id', 'url', 'geo_id', 'category', 'price'], \n",
    "                 dtype={'geo_id': 'object', 'category': 'object'}, encoding = 'latin-1')\n",
    "# Загрузка данных"
   ]
  },
  {
   "cell_type": "code",
   "execution_count": 4,
   "metadata": {
    "scrolled": true
   },
   "outputs": [
    {
     "data": {
      "text/html": [
       "<div>\n",
       "<style scoped>\n",
       "    .dataframe tbody tr th:only-of-type {\n",
       "        vertical-align: middle;\n",
       "    }\n",
       "\n",
       "    .dataframe tbody tr th {\n",
       "        vertical-align: top;\n",
       "    }\n",
       "\n",
       "    .dataframe thead th {\n",
       "        text-align: right;\n",
       "    }\n",
       "</style>\n",
       "<table border=\"1\" class=\"dataframe\">\n",
       "  <thead>\n",
       "    <tr style=\"text-align: right;\">\n",
       "      <th></th>\n",
       "      <th>timestamp</th>\n",
       "      <th>id</th>\n",
       "      <th>url</th>\n",
       "      <th>geo_id</th>\n",
       "      <th>category</th>\n",
       "      <th>price</th>\n",
       "    </tr>\n",
       "  </thead>\n",
       "  <tbody>\n",
       "    <tr>\n",
       "      <th>0</th>\n",
       "      <td>1380052543</td>\n",
       "      <td>00002ad98ae4290672431d702c211b4a</td>\n",
       "      <td>/_c/YwrVrj_29IVZDmKxglT53wo7Pk8.html</td>\n",
       "      <td>10000</td>\n",
       "      <td>NaN</td>\n",
       "      <td>NaN</td>\n",
       "    </tr>\n",
       "    <tr>\n",
       "      <th>1</th>\n",
       "      <td>1375703582</td>\n",
       "      <td>00003cb9076039f584a12c2036fd3602</td>\n",
       "      <td>/gate/cart-list.xml?sk=y5fc6079b758f5a4e3646a8...</td>\n",
       "      <td>10000</td>\n",
       "      <td>NaN</td>\n",
       "      <td>NaN</td>\n",
       "    </tr>\n",
       "    <tr>\n",
       "      <th>2</th>\n",
       "      <td>1374479873</td>\n",
       "      <td>00003cb9076039f584a12c2036fd3602</td>\n",
       "      <td>/gate/cart-list.xml?sk=yd6558780959d5130b32e1a...</td>\n",
       "      <td>10000</td>\n",
       "      <td>NaN</td>\n",
       "      <td>NaN</td>\n",
       "    </tr>\n",
       "    <tr>\n",
       "      <th>3</th>\n",
       "      <td>1374479892</td>\n",
       "      <td>00003cb9076039f584a12c2036fd3602</td>\n",
       "      <td>/gate/cart-list.xml?sk=yd6558780959d5130b32e1a...</td>\n",
       "      <td>10000</td>\n",
       "      <td>NaN</td>\n",
       "      <td>NaN</td>\n",
       "    </tr>\n",
       "    <tr>\n",
       "      <th>4</th>\n",
       "      <td>1374480337</td>\n",
       "      <td>00003cb9076039f584a12c2036fd3602</td>\n",
       "      <td>/gate/cart-list.xml?sk=yd6558780959d5130b32e1a...</td>\n",
       "      <td>10000</td>\n",
       "      <td>NaN</td>\n",
       "      <td>NaN</td>\n",
       "    </tr>\n",
       "  </tbody>\n",
       "</table>\n",
       "</div>"
      ],
      "text/plain": [
       "    timestamp                                id  \\\n",
       "0  1380052543  00002ad98ae4290672431d702c211b4a   \n",
       "1  1375703582  00003cb9076039f584a12c2036fd3602   \n",
       "2  1374479873  00003cb9076039f584a12c2036fd3602   \n",
       "3  1374479892  00003cb9076039f584a12c2036fd3602   \n",
       "4  1374480337  00003cb9076039f584a12c2036fd3602   \n",
       "\n",
       "                                                 url geo_id category  price  \n",
       "0               /_c/YwrVrj_29IVZDmKxglT53wo7Pk8.html  10000      NaN    NaN  \n",
       "1  /gate/cart-list.xml?sk=y5fc6079b758f5a4e3646a8...  10000      NaN    NaN  \n",
       "2  /gate/cart-list.xml?sk=yd6558780959d5130b32e1a...  10000      NaN    NaN  \n",
       "3  /gate/cart-list.xml?sk=yd6558780959d5130b32e1a...  10000      NaN    NaN  \n",
       "4  /gate/cart-list.xml?sk=yd6558780959d5130b32e1a...  10000      NaN    NaN  "
      ]
     },
     "execution_count": 4,
     "metadata": {},
     "output_type": "execute_result"
    }
   ],
   "source": [
    "df.head() # посмотрим как выглядят данные"
   ]
  },
  {
   "cell_type": "markdown",
   "metadata": {},
   "source": [
    "Для первичной сегментации пользователей оставим только строки, отвечающие за переход пользователя в магазин (соответсвуют click в графе url и NaN в графе price)"
   ]
  },
  {
   "cell_type": "code",
   "execution_count": 5,
   "metadata": {},
   "outputs": [
    {
     "data": {
      "text/html": [
       "<div>\n",
       "<style scoped>\n",
       "    .dataframe tbody tr th:only-of-type {\n",
       "        vertical-align: middle;\n",
       "    }\n",
       "\n",
       "    .dataframe tbody tr th {\n",
       "        vertical-align: top;\n",
       "    }\n",
       "\n",
       "    .dataframe thead th {\n",
       "        text-align: right;\n",
       "    }\n",
       "</style>\n",
       "<table border=\"1\" class=\"dataframe\">\n",
       "  <thead>\n",
       "    <tr style=\"text-align: right;\">\n",
       "      <th></th>\n",
       "      <th>timestamp</th>\n",
       "      <th>id</th>\n",
       "      <th>url</th>\n",
       "      <th>geo_id</th>\n",
       "      <th>category</th>\n",
       "      <th>price</th>\n",
       "    </tr>\n",
       "  </thead>\n",
       "  <tbody>\n",
       "    <tr>\n",
       "      <th>64</th>\n",
       "      <td>1363416109</td>\n",
       "      <td>00023fcc5c93cb4674bdad0d448272e6</td>\n",
       "      <td>click</td>\n",
       "      <td>213</td>\n",
       "      <td>2662954</td>\n",
       "      <td>30.0</td>\n",
       "    </tr>\n",
       "    <tr>\n",
       "      <th>65</th>\n",
       "      <td>1363154958</td>\n",
       "      <td>00023fcc5c93cb4674bdad0d448272e6</td>\n",
       "      <td>click</td>\n",
       "      <td>213</td>\n",
       "      <td>6427100</td>\n",
       "      <td>10.0</td>\n",
       "    </tr>\n",
       "    <tr>\n",
       "      <th>66</th>\n",
       "      <td>1363241850</td>\n",
       "      <td>00023fcc5c93cb4674bdad0d448272e6</td>\n",
       "      <td>click</td>\n",
       "      <td>213</td>\n",
       "      <td>6427100</td>\n",
       "      <td>10.0</td>\n",
       "    </tr>\n",
       "    <tr>\n",
       "      <th>67</th>\n",
       "      <td>1363242370</td>\n",
       "      <td>00023fcc5c93cb4674bdad0d448272e6</td>\n",
       "      <td>click</td>\n",
       "      <td>213</td>\n",
       "      <td>6427100</td>\n",
       "      <td>10.0</td>\n",
       "    </tr>\n",
       "    <tr>\n",
       "      <th>68</th>\n",
       "      <td>1363165672</td>\n",
       "      <td>00023fcc5c93cb4674bdad0d448272e6</td>\n",
       "      <td>click</td>\n",
       "      <td>213</td>\n",
       "      <td>6427100</td>\n",
       "      <td>80.0</td>\n",
       "    </tr>\n",
       "  </tbody>\n",
       "</table>\n",
       "</div>"
      ],
      "text/plain": [
       "     timestamp                                id    url geo_id category  price\n",
       "64  1363416109  00023fcc5c93cb4674bdad0d448272e6  click    213  2662954   30.0\n",
       "65  1363154958  00023fcc5c93cb4674bdad0d448272e6  click    213  6427100   10.0\n",
       "66  1363241850  00023fcc5c93cb4674bdad0d448272e6  click    213  6427100   10.0\n",
       "67  1363242370  00023fcc5c93cb4674bdad0d448272e6  click    213  6427100   10.0\n",
       "68  1363165672  00023fcc5c93cb4674bdad0d448272e6  click    213  6427100   80.0"
      ]
     },
     "execution_count": 5,
     "metadata": {},
     "output_type": "execute_result"
    }
   ],
   "source": [
    "data = df.compute() # переводим данные в pandas df для экономии времени\n",
    "data = data.dropna() # удаляем ненужные на данный момент строки\n",
    "data.head()"
   ]
  },
  {
   "cell_type": "code",
   "execution_count": 6,
   "metadata": {},
   "outputs": [
    {
     "name": "stdout",
     "output_type": "stream",
     "text": [
      "363313\n"
     ]
    }
   ],
   "source": [
    "print(len(data['id'])) # посмотрим на объём выборки"
   ]
  },
  {
   "cell_type": "markdown",
   "metadata": {},
   "source": [
    "Преобразуем графу timestamp так, чтобы получить время, прошедшее с клика пользователя в днях:"
   ]
  },
  {
   "cell_type": "code",
   "execution_count": 7,
   "metadata": {},
   "outputs": [],
   "source": [
    "data['timestamp'] = (1552840895 - data['timestamp']) / 86400 # учитывая что в сутках 86400 секунд"
   ]
  },
  {
   "cell_type": "code",
   "execution_count": 8,
   "metadata": {},
   "outputs": [],
   "source": [
    "data = data.drop(labels = 'url', axis = 1) # удалим бесполезный столбец url"
   ]
  },
  {
   "cell_type": "code",
   "execution_count": 9,
   "metadata": {},
   "outputs": [],
   "source": [
    "data = data.sort_values(by = 'id', axis = 0)"
   ]
  },
  {
   "cell_type": "code",
   "execution_count": 51,
   "metadata": {},
   "outputs": [],
   "source": [
    "id_tracker = '00023fcc5c93cb4674bdad0d448272e6' # id 1 встречающегося в данных пользователя\n",
    "latest_click_time = 1552840895\n",
    "clicks_time = []\n",
    "frequencies = []\n",
    "freq = 0\n",
    "ltvs = []\n",
    "ltv = 0\n",
    "user_ids = ['00023fcc5c93cb4674bdad0d448272e6']\n",
    "for index, row in data.iterrows():\n",
    "    if(row['id'] == id_tracker):\n",
    "        ltv += row['price']\n",
    "        freq +=1\n",
    "        if(row['timestamp'] < latest_click_time):\n",
    "            latest_click_time = row['timestamp']\n",
    "    else:\n",
    "        user_ids.append(row['id'])\n",
    "        ltvs.append(ltv)\n",
    "        ltv = row['price']\n",
    "        frequencies.append(freq)\n",
    "        freq = 1\n",
    "        clicks_time.append(latest_click_time)\n",
    "        latest_click_time = 1552840895\n",
    "        id_tracker = row['id']\n",
    "        if(row['timestamp'] < latest_click_time):\n",
    "            latest_click_time = row['timestamp']\n",
    "      "
   ]
  },
  {
   "cell_type": "code",
   "execution_count": 11,
   "metadata": {},
   "outputs": [],
   "source": [
    "RMF_data = pd.DataFrame(data = np.column_stack([clicks_time, frequencies, ltvs]),\n",
    "                        columns = ['Recency', 'Frequency', 'Monetary'])"
   ]
  },
  {
   "cell_type": "code",
   "execution_count": 12,
   "metadata": {},
   "outputs": [],
   "source": [
    "def get_Recency_index(row):\n",
    "    if row['Recency'] < 1930. : # анализ проводится с учётом того, что данные только взяты из базы\n",
    "        val = 1\n",
    "    elif row['Recency'] >= 1930. and row['Recency'] < 1961.:\n",
    "        val = 2\n",
    "    elif row['Recency'] >= 1961. and row['Recency'] < 2023.:\n",
    "        val = 3\n",
    "    elif row['Recency'] >= 2023. and row['Recency'] < 2086:\n",
    "        val = 4\n",
    "    else:\n",
    "        val = 5\n",
    "    return val"
   ]
  },
  {
   "cell_type": "code",
   "execution_count": 13,
   "metadata": {},
   "outputs": [],
   "source": [
    "RMF_data['Recency_types'] = RMF_data.apply(get_Recency_index, axis=1)"
   ]
  },
  {
   "cell_type": "code",
   "execution_count": 14,
   "metadata": {},
   "outputs": [
    {
     "data": {
      "image/png": "[encoded data removed]",
      "text/plain": [
       "<Figure size 864x576 with 1 Axes>"
      ]
     },
     "metadata": {},
     "output_type": "display_data"
    }
   ],
   "source": [
    "plt.figure(figsize=(12,8))\n",
    "sns.countplot(x='Recency_types', data=RMF_data, color=color[1])\n",
    "plt.ylabel('Count', fontsize=12)\n",
    "plt.xlabel('Recency flag', fontsize=12)\n",
    "#plt.xticks(rotation='vertical')\n",
    "plt.title('Recency histogram', fontsize=15)\n",
    "plt.show()\n"
   ]
  },
  {
   "cell_type": "code",
   "execution_count": 28,
   "metadata": {},
   "outputs": [
    {
     "data": {
      "text/html": [
       "<div>\n",
       "<style scoped>\n",
       "    .dataframe tbody tr th:only-of-type {\n",
       "        vertical-align: middle;\n",
       "    }\n",
       "\n",
       "    .dataframe tbody tr th {\n",
       "        vertical-align: top;\n",
       "    }\n",
       "\n",
       "    .dataframe thead th {\n",
       "        text-align: right;\n",
       "    }\n",
       "</style>\n",
       "<table border=\"1\" class=\"dataframe\">\n",
       "  <thead>\n",
       "    <tr style=\"text-align: right;\">\n",
       "      <th></th>\n",
       "      <th>Frequency_Band</th>\n",
       "    </tr>\n",
       "  </thead>\n",
       "  <tbody>\n",
       "    <tr>\n",
       "      <th>0</th>\n",
       "      <td>(0.999, 47.8]</td>\n",
       "    </tr>\n",
       "    <tr>\n",
       "      <th>158</th>\n",
       "      <td>(94.6, 142.4]</td>\n",
       "    </tr>\n",
       "    <tr>\n",
       "      <th>181</th>\n",
       "      <td>(47.8, 94.6]</td>\n",
       "    </tr>\n",
       "    <tr>\n",
       "      <th>417</th>\n",
       "      <td>(142.4, 215.6]</td>\n",
       "    </tr>\n",
       "    <tr>\n",
       "      <th>1701</th>\n",
       "      <td>(215.6, 2356.0]</td>\n",
       "    </tr>\n",
       "  </tbody>\n",
       "</table>\n",
       "</div>"
      ],
      "text/plain": [
       "       Frequency_Band\n",
       "0       (0.999, 47.8]\n",
       "158     (94.6, 142.4]\n",
       "181      (47.8, 94.6]\n",
       "417    (142.4, 215.6]\n",
       "1701  (215.6, 2356.0]"
      ]
     },
     "execution_count": 28,
     "metadata": {},
     "output_type": "execute_result"
    }
   ],
   "source": [
    "unique_clicks=RMF_data[['Frequency']].drop_duplicates()\n",
    "unique_clicks['Frequency_Band'] = pd.qcut(unique_clicks['Frequency'], 5)\n",
    "unique_clicks=unique_clicks[['Frequency_Band']].drop_duplicates()\n",
    "unique_clicks"
   ]
  },
  {
   "cell_type": "code",
   "execution_count": 29,
   "metadata": {},
   "outputs": [],
   "source": [
    "def get_Frequency_index(row):\n",
    "    if row['Frequency'] <= 48:\n",
    "        val = 5\n",
    "    elif row['Frequency'] > 48 and row['Frequency'] <= 95:\n",
    "        val = 4\n",
    "    elif row['Frequency'] > 95 and row['Frequency'] <= 142:\n",
    "        val = 3\n",
    "    elif row['Frequency'] > 142 and row['Frequency'] <= 215:\n",
    "        val = 2\n",
    "    else:\n",
    "        val = 1\n",
    "    return val"
   ]
  },
  {
   "cell_type": "code",
   "execution_count": 30,
   "metadata": {},
   "outputs": [],
   "source": [
    "RMF_data['Frequency_types'] = RMF_data.apply(get_Frequency_index, axis=1)"
   ]
  },
  {
   "cell_type": "code",
   "execution_count": 31,
   "metadata": {
    "collapsed": true
   },
   "outputs": [
    {
     "data": {
      "image/png": "[encoded data removed]",
      "text/plain": [
       "<Figure size 864x576 with 1 Axes>"
      ]
     },
     "metadata": {},
     "output_type": "display_data"
    }
   ],
   "source": [
    "plt.figure(figsize=(12,8))\n",
    "sns.countplot(x='Frequency_types', data=RMF_data, color=color[1])\n",
    "plt.ylabel('Count', fontsize=12)\n",
    "plt.xlabel('Frequency', fontsize=12)\n",
    "#plt.xticks(rotation='vertical')\n",
    "plt.title('Frequency histogram', fontsize=15)\n",
    "plt.show()\n",
    "\n"
   ]
  },
  {
   "cell_type": "markdown",
   "metadata": {},
   "source": [
    "Разделение выглядит неинформативным, попробуем изменить границы классов:"
   ]
  },
  {
   "cell_type": "code",
   "execution_count": 73,
   "metadata": {},
   "outputs": [],
   "source": [
    "def get_Frequency_index_v2(row):\n",
    "    if row['Frequency'] <= 3:\n",
    "        val = 5\n",
    "    elif row['Frequency'] > 3 and row['Frequency'] <= 10:\n",
    "        val = 4\n",
    "    elif row['Frequency'] > 10 and row['Frequency'] <= 30:\n",
    "        val = 3\n",
    "    elif row['Frequency'] > 30 and row['Frequency'] <= 100:\n",
    "        val = 2\n",
    "    else:\n",
    "        val = 1\n",
    "    return val"
   ]
  },
  {
   "cell_type": "code",
   "execution_count": 74,
   "metadata": {},
   "outputs": [],
   "source": [
    "RMF_data['Frequency_types_alternate'] = RMF_data.apply(get_Frequency_index_v2, axis=1)"
   ]
  },
  {
   "cell_type": "code",
   "execution_count": 77,
   "metadata": {},
   "outputs": [
    {
     "data": {
      "image/png": "[encoded data removed]",
      "text/plain": [
       "<Figure size 864x576 with 1 Axes>"
      ]
     },
     "metadata": {},
     "output_type": "display_data"
    }
   ],
   "source": [
    "plt.figure(figsize=(12,8))\n",
    "sns.countplot(x='Frequency_types_alternate', data=RMF_data, color=color[1])\n",
    "plt.ylabel('Count', fontsize=12)\n",
    "plt.xlabel('Frequency', fontsize=12)\n",
    "#plt.xticks(rotation='vertical')\n",
    "plt.title('Alternate Frequency histogram', fontsize=15)\n",
    "plt.show()"
   ]
  },
  {
   "cell_type": "markdown",
   "metadata": {},
   "source": [
    "Такая сегментация позволит лучше понимать, как работать с конкретным пользователем."
   ]
  },
  {
   "cell_type": "code",
   "execution_count": 23,
   "metadata": {},
   "outputs": [
    {
     "data": {
      "text/html": [
       "<div>\n",
       "<style scoped>\n",
       "    .dataframe tbody tr th:only-of-type {\n",
       "        vertical-align: middle;\n",
       "    }\n",
       "\n",
       "    .dataframe tbody tr th {\n",
       "        vertical-align: top;\n",
       "    }\n",
       "\n",
       "    .dataframe thead th {\n",
       "        text-align: right;\n",
       "    }\n",
       "</style>\n",
       "<table border=\"1\" class=\"dataframe\">\n",
       "  <thead>\n",
       "    <tr style=\"text-align: right;\">\n",
       "      <th></th>\n",
       "      <th>monetory_Band</th>\n",
       "    </tr>\n",
       "  </thead>\n",
       "  <tbody>\n",
       "    <tr>\n",
       "      <th>0</th>\n",
       "      <td>(205.0, 37020.0]</td>\n",
       "    </tr>\n",
       "    <tr>\n",
       "      <th>1</th>\n",
       "      <td>(77.0, 205.0]</td>\n",
       "    </tr>\n",
       "    <tr>\n",
       "      <th>3</th>\n",
       "      <td>(31.0, 77.0]</td>\n",
       "    </tr>\n",
       "    <tr>\n",
       "      <th>7</th>\n",
       "      <td>(12.0, 31.0]</td>\n",
       "    </tr>\n",
       "    <tr>\n",
       "      <th>8</th>\n",
       "      <td>(-0.001, 12.0]</td>\n",
       "    </tr>\n",
       "  </tbody>\n",
       "</table>\n",
       "</div>"
      ],
      "text/plain": [
       "      monetory_Band\n",
       "0  (205.0, 37020.0]\n",
       "1     (77.0, 205.0]\n",
       "3      (31.0, 77.0]\n",
       "7      (12.0, 31.0]\n",
       "8    (-0.001, 12.0]"
      ]
     },
     "execution_count": 23,
     "metadata": {},
     "output_type": "execute_result"
    }
   ],
   "source": [
    "unique_price=RMF_data[['Monetary']].drop_duplicates()\n",
    "unique_price['monetory_Band'] = pd.qcut(RMF_data['Monetary'], 5)\n",
    "unique_price=unique_price[['monetory_Band']].drop_duplicates()\n",
    "unique_price"
   ]
  },
  {
   "cell_type": "code",
   "execution_count": 24,
   "metadata": {},
   "outputs": [],
   "source": [
    "def get_Monetary_index(row):\n",
    "    if row['Monetary'] <= 12:\n",
    "        val = 5\n",
    "    elif row['Monetary'] > 12 and row['Monetary'] <= 31:\n",
    "        val = 4\n",
    "    elif row['Monetary'] > 31 and row['Monetary'] <= 77:\n",
    "        val = 3\n",
    "    elif row['Monetary'] > 77 and row['Monetary'] <= 205:\n",
    "        val = 2\n",
    "    else:\n",
    "        val = 1\n",
    "    return val"
   ]
  },
  {
   "cell_type": "code",
   "execution_count": 25,
   "metadata": {},
   "outputs": [],
   "source": [
    "RMF_data['Monetary_types'] = RMF_data.apply(get_Monetary_index, axis=1)"
   ]
  },
  {
   "cell_type": "code",
   "execution_count": 26,
   "metadata": {},
   "outputs": [
    {
     "data": {
      "image/png": "[encoded data removed]",
      "text/plain": [
       "<Figure size 864x576 with 1 Axes>"
      ]
     },
     "metadata": {},
     "output_type": "display_data"
    }
   ],
   "source": [
    "plt.figure(figsize=(12,8))\n",
    "sns.countplot(x='Monetary_types', data=RMF_data, color=color[1])\n",
    "plt.ylabel('Count', fontsize=12)\n",
    "plt.xlabel('Monetary', fontsize=12)\n",
    "#plt.xticks(rotation='vertical')\n",
    "plt.title('Monetary histogram', fontsize=15)\n",
    "plt.show()"
   ]
  },
  {
   "cell_type": "code",
   "execution_count": 78,
   "metadata": {},
   "outputs": [
    {
     "data": {
      "text/html": [
       "<div>\n",
       "<style scoped>\n",
       "    .dataframe tbody tr th:only-of-type {\n",
       "        vertical-align: middle;\n",
       "    }\n",
       "\n",
       "    .dataframe tbody tr th {\n",
       "        vertical-align: top;\n",
       "    }\n",
       "\n",
       "    .dataframe thead th {\n",
       "        text-align: right;\n",
       "    }\n",
       "</style>\n",
       "<table border=\"1\" class=\"dataframe\">\n",
       "  <thead>\n",
       "    <tr style=\"text-align: right;\">\n",
       "      <th></th>\n",
       "      <th>Recency_types</th>\n",
       "      <th>Monetary_types</th>\n",
       "      <th>Frequency_types_alternate</th>\n",
       "      <th>id</th>\n",
       "    </tr>\n",
       "  </thead>\n",
       "  <tbody>\n",
       "    <tr>\n",
       "      <th>0</th>\n",
       "      <td>3</td>\n",
       "      <td>1</td>\n",
       "      <td>3</td>\n",
       "      <td>00023fcc5c93cb4674bdad0d448272e6</td>\n",
       "    </tr>\n",
       "    <tr>\n",
       "      <th>1</th>\n",
       "      <td>5</td>\n",
       "      <td>2</td>\n",
       "      <td>4</td>\n",
       "      <td>00029bdb868e12bb62b8c574b274dbb7</td>\n",
       "    </tr>\n",
       "    <tr>\n",
       "      <th>2</th>\n",
       "      <td>4</td>\n",
       "      <td>2</td>\n",
       "      <td>5</td>\n",
       "      <td>00035d94fcd7e814d56531cf95b81ceb</td>\n",
       "    </tr>\n",
       "    <tr>\n",
       "      <th>3</th>\n",
       "      <td>2</td>\n",
       "      <td>3</td>\n",
       "      <td>4</td>\n",
       "      <td>00045ac92fb4ed78bc66c40f52775acd</td>\n",
       "    </tr>\n",
       "    <tr>\n",
       "      <th>4</th>\n",
       "      <td>3</td>\n",
       "      <td>2</td>\n",
       "      <td>3</td>\n",
       "      <td>00056ac58d63ef1d4b5fb73324bf845d</td>\n",
       "    </tr>\n",
       "  </tbody>\n",
       "</table>\n",
       "</div>"
      ],
      "text/plain": [
       "   Recency_types  Monetary_types  Frequency_types_alternate  \\\n",
       "0              3               1                          3   \n",
       "1              5               2                          4   \n",
       "2              4               2                          5   \n",
       "3              2               3                          4   \n",
       "4              3               2                          3   \n",
       "\n",
       "                                 id  \n",
       "0  00023fcc5c93cb4674bdad0d448272e6  \n",
       "1  00029bdb868e12bb62b8c574b274dbb7  \n",
       "2  00035d94fcd7e814d56531cf95b81ceb  \n",
       "3  00045ac92fb4ed78bc66c40f52775acd  \n",
       "4  00056ac58d63ef1d4b5fb73324bf845d  "
      ]
     },
     "execution_count": 78,
     "metadata": {},
     "output_type": "execute_result"
    }
   ],
   "source": [
    "RMF_table = RMF_data.drop(labels = ['Recency' , 'Frequency', 'Monetary', 'Frequency_types'], axis = 1)\n",
    "RMF_table['id'] = pd.Series(user_ids[:-1], index = RMF_table.index)\n",
    "RMF_table.head()"
   ]
  },
  {
   "cell_type": "markdown",
   "metadata": {},
   "source": [
    "### RF - таблица:"
   ]
  },
  {
   "cell_type": "code",
   "execution_count": null,
   "metadata": {},
   "outputs": [],
   "source": [
    "oneoff_buyers = RMF_table.loc()"
   ]
  },
  {
   "cell_type": "code",
   "execution_count": 156,
   "metadata": {},
   "outputs": [
    {
     "data": {
      "text/html": [
       "<div>\n",
       "<style scoped>\n",
       "    .dataframe tbody tr th:only-of-type {\n",
       "        vertical-align: middle;\n",
       "    }\n",
       "\n",
       "    .dataframe tbody tr th {\n",
       "        vertical-align: top;\n",
       "    }\n",
       "\n",
       "    .dataframe thead th {\n",
       "        text-align: right;\n",
       "    }\n",
       "</style>\n",
       "<table border=\"1\" class=\"dataframe\">\n",
       "  <thead>\n",
       "    <tr style=\"text-align: right;\">\n",
       "      <th></th>\n",
       "      <th>Recency</th>\n",
       "      <th>Frequency</th>\n",
       "      <th>Monetary</th>\n",
       "      <th>Recency_types</th>\n",
       "      <th>Frequency_types</th>\n",
       "      <th>Monetary_types</th>\n",
       "      <th>Frequency_types_alternate</th>\n",
       "    </tr>\n",
       "  </thead>\n",
       "  <tbody>\n",
       "    <tr>\n",
       "      <th>Recency</th>\n",
       "      <td>1.000000</td>\n",
       "      <td>-0.101884</td>\n",
       "      <td>-0.109163</td>\n",
       "      <td>0.924117</td>\n",
       "      <td>0.079444</td>\n",
       "      <td>0.148352</td>\n",
       "      <td>0.160036</td>\n",
       "    </tr>\n",
       "    <tr>\n",
       "      <th>Frequency</th>\n",
       "      <td>-0.101884</td>\n",
       "      <td>1.000000</td>\n",
       "      <td>0.789697</td>\n",
       "      <td>-0.107161</td>\n",
       "      <td>-0.776101</td>\n",
       "      <td>-0.307213</td>\n",
       "      <td>-0.566389</td>\n",
       "    </tr>\n",
       "    <tr>\n",
       "      <th>Monetary</th>\n",
       "      <td>-0.109163</td>\n",
       "      <td>0.789697</td>\n",
       "      <td>1.000000</td>\n",
       "      <td>-0.110609</td>\n",
       "      <td>-0.669222</td>\n",
       "      <td>-0.375593</td>\n",
       "      <td>-0.523053</td>\n",
       "    </tr>\n",
       "    <tr>\n",
       "      <th>Recency_types</th>\n",
       "      <td>0.924117</td>\n",
       "      <td>-0.107161</td>\n",
       "      <td>-0.110609</td>\n",
       "      <td>1.000000</td>\n",
       "      <td>0.085888</td>\n",
       "      <td>0.138872</td>\n",
       "      <td>0.161704</td>\n",
       "    </tr>\n",
       "    <tr>\n",
       "      <th>Frequency_types</th>\n",
       "      <td>0.079444</td>\n",
       "      <td>-0.776101</td>\n",
       "      <td>-0.669222</td>\n",
       "      <td>0.085888</td>\n",
       "      <td>1.000000</td>\n",
       "      <td>0.168686</td>\n",
       "      <td>0.422994</td>\n",
       "    </tr>\n",
       "    <tr>\n",
       "      <th>Monetary_types</th>\n",
       "      <td>0.148352</td>\n",
       "      <td>-0.307213</td>\n",
       "      <td>-0.375593</td>\n",
       "      <td>0.138872</td>\n",
       "      <td>0.168686</td>\n",
       "      <td>1.000000</td>\n",
       "      <td>0.660088</td>\n",
       "    </tr>\n",
       "    <tr>\n",
       "      <th>Frequency_types_alternate</th>\n",
       "      <td>0.160036</td>\n",
       "      <td>-0.566389</td>\n",
       "      <td>-0.523053</td>\n",
       "      <td>0.161704</td>\n",
       "      <td>0.422994</td>\n",
       "      <td>0.660088</td>\n",
       "      <td>1.000000</td>\n",
       "    </tr>\n",
       "  </tbody>\n",
       "</table>\n",
       "</div>"
      ],
      "text/plain": [
       "                            Recency  Frequency  Monetary  Recency_types  \\\n",
       "Recency                    1.000000  -0.101884 -0.109163       0.924117   \n",
       "Frequency                 -0.101884   1.000000  0.789697      -0.107161   \n",
       "Monetary                  -0.109163   0.789697  1.000000      -0.110609   \n",
       "Recency_types              0.924117  -0.107161 -0.110609       1.000000   \n",
       "Frequency_types            0.079444  -0.776101 -0.669222       0.085888   \n",
       "Monetary_types             0.148352  -0.307213 -0.375593       0.138872   \n",
       "Frequency_types_alternate  0.160036  -0.566389 -0.523053       0.161704   \n",
       "\n",
       "                           Frequency_types  Monetary_types  \\\n",
       "Recency                           0.079444        0.148352   \n",
       "Frequency                        -0.776101       -0.307213   \n",
       "Monetary                         -0.669222       -0.375593   \n",
       "Recency_types                     0.085888        0.138872   \n",
       "Frequency_types                   1.000000        0.168686   \n",
       "Monetary_types                    0.168686        1.000000   \n",
       "Frequency_types_alternate         0.422994        0.660088   \n",
       "\n",
       "                           Frequency_types_alternate  \n",
       "Recency                                     0.160036  \n",
       "Frequency                                  -0.566389  \n",
       "Monetary                                   -0.523053  \n",
       "Recency_types                               0.161704  \n",
       "Frequency_types                             0.422994  \n",
       "Monetary_types                              0.660088  \n",
       "Frequency_types_alternate                   1.000000  "
      ]
     },
     "execution_count": 156,
     "metadata": {},
     "output_type": "execute_result"
    }
   ],
   "source": [
    "RMF_data.corr()"
   ]
  },
  {
   "cell_type": "markdown",
   "metadata": {},
   "source": [
    "## Импортируем данные о регионах и категориях товаров:"
   ]
  },
  {
   "cell_type": "code",
   "execution_count": 155,
   "metadata": {
    "scrolled": true
   },
   "outputs": [
    {
     "data": {
      "text/html": [
       "<div>\n",
       "<style scoped>\n",
       "    .dataframe tbody tr th:only-of-type {\n",
       "        vertical-align: middle;\n",
       "    }\n",
       "\n",
       "    .dataframe tbody tr th {\n",
       "        vertical-align: top;\n",
       "    }\n",
       "\n",
       "    .dataframe thead th {\n",
       "        text-align: right;\n",
       "    }\n",
       "</style>\n",
       "<table border=\"1\" class=\"dataframe\">\n",
       "  <thead>\n",
       "    <tr style=\"text-align: right;\">\n",
       "      <th></th>\n",
       "      <th>id</th>\n",
       "      <th>name</th>\n",
       "      <th>parent_region_id</th>\n",
       "      <th>type</th>\n",
       "      <th>TZ_OFFSET</th>\n",
       "    </tr>\n",
       "  </thead>\n",
       "  <tbody>\n",
       "    <tr>\n",
       "      <th>0</th>\n",
       "      <td>1</td>\n",
       "      <td>Москва и Московская область</td>\n",
       "      <td>3.0</td>\n",
       "      <td>5</td>\n",
       "      <td>10800</td>\n",
       "    </tr>\n",
       "    <tr>\n",
       "      <th>1</th>\n",
       "      <td>2</td>\n",
       "      <td>Санкт-Петербург</td>\n",
       "      <td>10174.0</td>\n",
       "      <td>6</td>\n",
       "      <td>10800</td>\n",
       "    </tr>\n",
       "  </tbody>\n",
       "</table>\n",
       "</div>"
      ],
      "text/plain": [
       "   id                         name  parent_region_id  type  TZ_OFFSET\n",
       "0   1  Москва и Московская область               3.0     5      10800\n",
       "1   2              Санкт-Петербург           10174.0     6      10800"
      ]
     },
     "execution_count": 155,
     "metadata": {},
     "output_type": "execute_result"
    }
   ],
   "source": [
    "geo_data = pd.read_csv('geo_table', sep = '\\t', header = 0)\n",
    "geo_data.head(2)"
   ]
  },
  {
   "cell_type": "code",
   "execution_count": 80,
   "metadata": {},
   "outputs": [
    {
     "data": {
      "text/html": [
       "<div>\n",
       "<style scoped>\n",
       "    .dataframe tbody tr th:only-of-type {\n",
       "        vertical-align: middle;\n",
       "    }\n",
       "\n",
       "    .dataframe tbody tr th {\n",
       "        vertical-align: top;\n",
       "    }\n",
       "\n",
       "    .dataframe thead th {\n",
       "        text-align: right;\n",
       "    }\n",
       "</style>\n",
       "<table border=\"1\" class=\"dataframe\">\n",
       "  <thead>\n",
       "    <tr style=\"text-align: right;\">\n",
       "      <th></th>\n",
       "      <th>id</th>\n",
       "      <th>parent_id</th>\n",
       "      <th>hyper_cat_id</th>\n",
       "      <th>category_name</th>\n",
       "      <th>category_pass</th>\n",
       "    </tr>\n",
       "  </thead>\n",
       "  <tbody>\n",
       "    <tr>\n",
       "      <th>0</th>\n",
       "      <td>984</td>\n",
       "      <td>978</td>\n",
       "      <td>91768</td>\n",
       "      <td>Этикет-пистолеты</td>\n",
       "      <td>\\tОборудование\\tОборудование для магазинов\\tЭт...</td>\n",
       "    </tr>\n",
       "    <tr>\n",
       "      <th>1</th>\n",
       "      <td>23187</td>\n",
       "      <td>978</td>\n",
       "      <td>10469630</td>\n",
       "      <td>Рекламные дисплеи и интерактивные панели</td>\n",
       "      <td>\\tОборудование\\tОборудование для магазинов\\tРе...</td>\n",
       "    </tr>\n",
       "  </tbody>\n",
       "</table>\n",
       "</div>"
      ],
      "text/plain": [
       "      id  parent_id  hyper_cat_id                             category_name  \\\n",
       "0    984        978         91768                          Этикет-пистолеты   \n",
       "1  23187        978      10469630  Рекламные дисплеи и интерактивные панели   \n",
       "\n",
       "                                       category_pass  \n",
       "0  \\tОборудование\\tОборудование для магазинов\\tЭт...  \n",
       "1  \\tОборудование\\tОборудование для магазинов\\tРе...  "
      ]
     },
     "execution_count": 80,
     "metadata": {},
     "output_type": "execute_result"
    }
   ],
   "source": [
    "categories_data = pd.read_csv('categories_tree', sep = '\\t', header = 0)\n",
    "categories_data.head(2)"
   ]
  },
  {
   "cell_type": "code",
   "execution_count": 100,
   "metadata": {},
   "outputs": [],
   "source": [
    "sorted_geo = sort(geo_data['parent_region_id'])"
   ]
  },
  {
   "cell_type": "code",
   "execution_count": 94,
   "metadata": {},
   "outputs": [
    {
     "data": {
      "text/plain": [
       "array(['0', '0', '0', ..., '98623', '98623', '98631'], dtype=object)"
      ]
     },
     "execution_count": 94,
     "metadata": {},
     "output_type": "execute_result"
    }
   ],
   "source": [
    "sort(data['geo_id'])"
   ]
  },
  {
   "cell_type": "code",
   "execution_count": 109,
   "metadata": {},
   "outputs": [],
   "source": [
    "reg_list = geo_data['parent_region_id'].unique().astype(int)"
   ]
  },
  {
   "cell_type": "code",
   "execution_count": 113,
   "metadata": {},
   "outputs": [],
   "source": [
    "reg_list = sorted(reg_list)"
   ]
  },
  {
   "cell_type": "code",
   "execution_count": 117,
   "metadata": {},
   "outputs": [
    {
     "data": {
      "text/plain": [
       "40787"
      ]
     },
     "execution_count": 117,
     "metadata": {},
     "output_type": "execute_result"
    }
   ],
   "source": [
    "len(geo_data['name']"
   ]
  },
  {
   "cell_type": "code",
   "execution_count": 118,
   "metadata": {},
   "outputs": [
    {
     "data": {
      "text/plain": [
       "6067"
      ]
     },
     "execution_count": 118,
     "metadata": {},
     "output_type": "execute_result"
    }
   ],
   "source": [
    "len(reg_list)"
   ]
  },
  {
   "cell_type": "code",
   "execution_count": 120,
   "metadata": {},
   "outputs": [],
   "source": [
    "reg_list = pd.Series(reg_list)"
   ]
  },
  {
   "cell_type": "code",
   "execution_count": 154,
   "metadata": {},
   "outputs": [
    {
     "data": {
      "text/html": [
       "<div>\n",
       "<style scoped>\n",
       "    .dataframe tbody tr th:only-of-type {\n",
       "        vertical-align: middle;\n",
       "    }\n",
       "\n",
       "    .dataframe tbody tr th {\n",
       "        vertical-align: top;\n",
       "    }\n",
       "\n",
       "    .dataframe thead th {\n",
       "        text-align: right;\n",
       "    }\n",
       "</style>\n",
       "<table border=\"1\" class=\"dataframe\">\n",
       "  <thead>\n",
       "    <tr style=\"text-align: right;\">\n",
       "      <th></th>\n",
       "      <th>id</th>\n",
       "      <th>name</th>\n",
       "      <th>parent_region_id</th>\n",
       "      <th>type</th>\n",
       "      <th>TZ_OFFSET</th>\n",
       "    </tr>\n",
       "  </thead>\n",
       "  <tbody>\n",
       "    <tr>\n",
       "      <th>51665</th>\n",
       "      <td>127499</td>\n",
       "      <td>Нагольный</td>\n",
       "      <td>99244.0</td>\n",
       "      <td>7</td>\n",
       "      <td>10800</td>\n",
       "    </tr>\n",
       "  </tbody>\n",
       "</table>\n",
       "</div>"
      ],
      "text/plain": [
       "           id       name  parent_region_id  type  TZ_OFFSET\n",
       "51665  127499  Нагольный           99244.0     7      10800"
      ]
     },
     "execution_count": 154,
     "metadata": {},
     "output_type": "execute_result"
    }
   ],
   "source": [
    "geo_data.loc[geo_data['id'] == 127499]"
   ]
  },
  {
   "cell_type": "code",
   "execution_count": 147,
   "metadata": {},
   "outputs": [
    {
     "data": {
      "text/html": [
       "<div>\n",
       "<style scoped>\n",
       "    .dataframe tbody tr th:only-of-type {\n",
       "        vertical-align: middle;\n",
       "    }\n",
       "\n",
       "    .dataframe tbody tr th {\n",
       "        vertical-align: top;\n",
       "    }\n",
       "\n",
       "    .dataframe thead th {\n",
       "        text-align: right;\n",
       "    }\n",
       "</style>\n",
       "<table border=\"1\" class=\"dataframe\">\n",
       "  <thead>\n",
       "    <tr style=\"text-align: right;\">\n",
       "      <th></th>\n",
       "      <th>id</th>\n",
       "      <th>parent_id</th>\n",
       "      <th>hyper_cat_id</th>\n",
       "      <th>category_name</th>\n",
       "      <th>category_pass</th>\n",
       "    </tr>\n",
       "  </thead>\n",
       "  <tbody>\n",
       "  </tbody>\n",
       "</table>\n",
       "</div>"
      ],
      "text/plain": [
       "Empty DataFrame\n",
       "Columns: [id, parent_id, hyper_cat_id, category_name, category_pass]\n",
       "Index: []"
      ]
     },
     "execution_count": 147,
     "metadata": {},
     "output_type": "execute_result"
    }
   ],
   "source": [
    "categories_data.loc[categories_data['hyper_cat_id'] == 90829]"
   ]
  },
  {
   "cell_type": "code",
   "execution_count": 143,
   "metadata": {
    "collapsed": true
   },
   "outputs": [
    {
     "data": {
      "text/html": [
       "<div>\n",
       "<style scoped>\n",
       "    .dataframe tbody tr th:only-of-type {\n",
       "        vertical-align: middle;\n",
       "    }\n",
       "\n",
       "    .dataframe tbody tr th {\n",
       "        vertical-align: top;\n",
       "    }\n",
       "\n",
       "    .dataframe thead th {\n",
       "        text-align: right;\n",
       "    }\n",
       "</style>\n",
       "<table border=\"1\" class=\"dataframe\">\n",
       "  <thead>\n",
       "    <tr style=\"text-align: right;\">\n",
       "      <th></th>\n",
       "      <th>timestamp</th>\n",
       "      <th>id</th>\n",
       "      <th>geo_id</th>\n",
       "      <th>category</th>\n",
       "      <th>price</th>\n",
       "    </tr>\n",
       "  </thead>\n",
       "  <tbody>\n",
       "    <tr>\n",
       "      <th>64</th>\n",
       "      <td>2192.416505</td>\n",
       "      <td>00023fcc5c93cb4674bdad0d448272e6</td>\n",
       "      <td>213</td>\n",
       "      <td>2662954</td>\n",
       "      <td>30.0</td>\n",
       "    </tr>\n",
       "    <tr>\n",
       "      <th>88</th>\n",
       "      <td>2242.396632</td>\n",
       "      <td>00023fcc5c93cb4674bdad0d448272e6</td>\n",
       "      <td>213</td>\n",
       "      <td>90984</td>\n",
       "      <td>14.0</td>\n",
       "    </tr>\n",
       "    <tr>\n",
       "      <th>87</th>\n",
       "      <td>2242.399097</td>\n",
       "      <td>00023fcc5c93cb4674bdad0d448272e6</td>\n",
       "      <td>213</td>\n",
       "      <td>90976</td>\n",
       "      <td>9.0</td>\n",
       "    </tr>\n",
       "    <tr>\n",
       "      <th>86</th>\n",
       "      <td>2238.951238</td>\n",
       "      <td>00023fcc5c93cb4674bdad0d448272e6</td>\n",
       "      <td>213</td>\n",
       "      <td>90976</td>\n",
       "      <td>10.0</td>\n",
       "    </tr>\n",
       "    <tr>\n",
       "      <th>84</th>\n",
       "      <td>2177.490671</td>\n",
       "      <td>00023fcc5c93cb4674bdad0d448272e6</td>\n",
       "      <td>213</td>\n",
       "      <td>90829</td>\n",
       "      <td>20.0</td>\n",
       "    </tr>\n",
       "    <tr>\n",
       "      <th>83</th>\n",
       "      <td>2242.397188</td>\n",
       "      <td>00023fcc5c93cb4674bdad0d448272e6</td>\n",
       "      <td>213</td>\n",
       "      <td>90829</td>\n",
       "      <td>12.0</td>\n",
       "    </tr>\n",
       "    <tr>\n",
       "      <th>82</th>\n",
       "      <td>1970.921042</td>\n",
       "      <td>00023fcc5c93cb4674bdad0d448272e6</td>\n",
       "      <td>213</td>\n",
       "      <td>90783</td>\n",
       "      <td>16.0</td>\n",
       "    </tr>\n",
       "    <tr>\n",
       "      <th>81</th>\n",
       "      <td>1970.920648</td>\n",
       "      <td>00023fcc5c93cb4674bdad0d448272e6</td>\n",
       "      <td>213</td>\n",
       "      <td>90783</td>\n",
       "      <td>11.0</td>\n",
       "    </tr>\n",
       "    <tr>\n",
       "      <th>80</th>\n",
       "      <td>1975.076424</td>\n",
       "      <td>00023fcc5c93cb4674bdad0d448272e6</td>\n",
       "      <td>213</td>\n",
       "      <td>90783</td>\n",
       "      <td>11.0</td>\n",
       "    </tr>\n",
       "    <tr>\n",
       "      <th>79</th>\n",
       "      <td>1975.077396</td>\n",
       "      <td>00023fcc5c93cb4674bdad0d448272e6</td>\n",
       "      <td>213</td>\n",
       "      <td>90783</td>\n",
       "      <td>11.0</td>\n",
       "    </tr>\n",
       "    <tr>\n",
       "      <th>78</th>\n",
       "      <td>1970.919097</td>\n",
       "      <td>00023fcc5c93cb4674bdad0d448272e6</td>\n",
       "      <td>213</td>\n",
       "      <td>90783</td>\n",
       "      <td>10.0</td>\n",
       "    </tr>\n",
       "    <tr>\n",
       "      <th>77</th>\n",
       "      <td>1975.074988</td>\n",
       "      <td>00023fcc5c93cb4674bdad0d448272e6</td>\n",
       "      <td>213</td>\n",
       "      <td>90783</td>\n",
       "      <td>10.0</td>\n",
       "    </tr>\n",
       "    <tr>\n",
       "      <th>85</th>\n",
       "      <td>2242.015162</td>\n",
       "      <td>00023fcc5c93cb4674bdad0d448272e6</td>\n",
       "      <td>213</td>\n",
       "      <td>90857</td>\n",
       "      <td>8.0</td>\n",
       "    </tr>\n",
       "    <tr>\n",
       "      <th>75</th>\n",
       "      <td>2173.463426</td>\n",
       "      <td>00023fcc5c93cb4674bdad0d448272e6</td>\n",
       "      <td>213</td>\n",
       "      <td>90738</td>\n",
       "      <td>10.0</td>\n",
       "    </tr>\n",
       "    <tr>\n",
       "      <th>74</th>\n",
       "      <td>2173.466875</td>\n",
       "      <td>00023fcc5c93cb4674bdad0d448272e6</td>\n",
       "      <td>213</td>\n",
       "      <td>90738</td>\n",
       "      <td>10.0</td>\n",
       "    </tr>\n",
       "    <tr>\n",
       "      <th>73</th>\n",
       "      <td>2173.469861</td>\n",
       "      <td>00023fcc5c93cb4674bdad0d448272e6</td>\n",
       "      <td>213</td>\n",
       "      <td>90738</td>\n",
       "      <td>10.0</td>\n",
       "    </tr>\n",
       "    <tr>\n",
       "      <th>72</th>\n",
       "      <td>2173.470046</td>\n",
       "      <td>00023fcc5c93cb4674bdad0d448272e6</td>\n",
       "      <td>213</td>\n",
       "      <td>90738</td>\n",
       "      <td>10.0</td>\n",
       "    </tr>\n",
       "    <tr>\n",
       "      <th>71</th>\n",
       "      <td>2178.476204</td>\n",
       "      <td>00023fcc5c93cb4674bdad0d448272e6</td>\n",
       "      <td>213</td>\n",
       "      <td>7812062</td>\n",
       "      <td>10.0</td>\n",
       "    </tr>\n",
       "    <tr>\n",
       "      <th>70</th>\n",
       "      <td>2170.255741</td>\n",
       "      <td>00023fcc5c93cb4674bdad0d448272e6</td>\n",
       "      <td>213</td>\n",
       "      <td>7286126</td>\n",
       "      <td>73.0</td>\n",
       "    </tr>\n",
       "    <tr>\n",
       "      <th>69</th>\n",
       "      <td>2170.250185</td>\n",
       "      <td>00023fcc5c93cb4674bdad0d448272e6</td>\n",
       "      <td>213</td>\n",
       "      <td>7286126</td>\n",
       "      <td>10.0</td>\n",
       "    </tr>\n",
       "    <tr>\n",
       "      <th>68</th>\n",
       "      <td>2195.315081</td>\n",
       "      <td>00023fcc5c93cb4674bdad0d448272e6</td>\n",
       "      <td>213</td>\n",
       "      <td>6427100</td>\n",
       "      <td>80.0</td>\n",
       "    </tr>\n",
       "    <tr>\n",
       "      <th>67</th>\n",
       "      <td>2194.427373</td>\n",
       "      <td>00023fcc5c93cb4674bdad0d448272e6</td>\n",
       "      <td>213</td>\n",
       "      <td>6427100</td>\n",
       "      <td>10.0</td>\n",
       "    </tr>\n",
       "    <tr>\n",
       "      <th>66</th>\n",
       "      <td>2194.433391</td>\n",
       "      <td>00023fcc5c93cb4674bdad0d448272e6</td>\n",
       "      <td>213</td>\n",
       "      <td>6427100</td>\n",
       "      <td>10.0</td>\n",
       "    </tr>\n",
       "    <tr>\n",
       "      <th>65</th>\n",
       "      <td>2195.439086</td>\n",
       "      <td>00023fcc5c93cb4674bdad0d448272e6</td>\n",
       "      <td>213</td>\n",
       "      <td>6427100</td>\n",
       "      <td>10.0</td>\n",
       "    </tr>\n",
       "    <tr>\n",
       "      <th>76</th>\n",
       "      <td>1975.075486</td>\n",
       "      <td>00023fcc5c93cb4674bdad0d448272e6</td>\n",
       "      <td>213</td>\n",
       "      <td>90783</td>\n",
       "      <td>10.0</td>\n",
       "    </tr>\n",
       "    <tr>\n",
       "      <th>453</th>\n",
       "      <td>2264.367743</td>\n",
       "      <td>00029bdb868e12bb62b8c574b274dbb7</td>\n",
       "      <td>2</td>\n",
       "      <td>91148</td>\n",
       "      <td>50.0</td>\n",
       "    </tr>\n",
       "    <tr>\n",
       "      <th>452</th>\n",
       "      <td>2264.359005</td>\n",
       "      <td>00029bdb868e12bb62b8c574b274dbb7</td>\n",
       "      <td>2</td>\n",
       "      <td>91148</td>\n",
       "      <td>10.0</td>\n",
       "    </tr>\n",
       "    <tr>\n",
       "      <th>451</th>\n",
       "      <td>2264.361100</td>\n",
       "      <td>00029bdb868e12bb62b8c574b274dbb7</td>\n",
       "      <td>2</td>\n",
       "      <td>91148</td>\n",
       "      <td>10.0</td>\n",
       "    </tr>\n",
       "    <tr>\n",
       "      <th>449</th>\n",
       "      <td>2264.365231</td>\n",
       "      <td>00029bdb868e12bb62b8c574b274dbb7</td>\n",
       "      <td>2</td>\n",
       "      <td>91148</td>\n",
       "      <td>10.0</td>\n",
       "    </tr>\n",
       "    <tr>\n",
       "      <th>450</th>\n",
       "      <td>2264.361204</td>\n",
       "      <td>00029bdb868e12bb62b8c574b274dbb7</td>\n",
       "      <td>2</td>\n",
       "      <td>91148</td>\n",
       "      <td>10.0</td>\n",
       "    </tr>\n",
       "    <tr>\n",
       "      <th>...</th>\n",
       "      <td>...</td>\n",
       "      <td>...</td>\n",
       "      <td>...</td>\n",
       "      <td>...</td>\n",
       "      <td>...</td>\n",
       "    </tr>\n",
       "    <tr>\n",
       "      <th>1047</th>\n",
       "      <td>1985.940729</td>\n",
       "      <td>000cc187d45637f927e56b9fa0ef5f88</td>\n",
       "      <td>213</td>\n",
       "      <td>91491</td>\n",
       "      <td>11.0</td>\n",
       "    </tr>\n",
       "    <tr>\n",
       "      <th>1082</th>\n",
       "      <td>1971.164896</td>\n",
       "      <td>000f7e1bee6c4166a6d82bfdfbbc0e58</td>\n",
       "      <td>213</td>\n",
       "      <td>91491</td>\n",
       "      <td>10.0</td>\n",
       "    </tr>\n",
       "    <tr>\n",
       "      <th>1083</th>\n",
       "      <td>1971.162639</td>\n",
       "      <td>000f7e1bee6c4166a6d82bfdfbbc0e58</td>\n",
       "      <td>213</td>\n",
       "      <td>91491</td>\n",
       "      <td>10.0</td>\n",
       "    </tr>\n",
       "    <tr>\n",
       "      <th>1084</th>\n",
       "      <td>1971.161678</td>\n",
       "      <td>000f7e1bee6c4166a6d82bfdfbbc0e58</td>\n",
       "      <td>213</td>\n",
       "      <td>91491</td>\n",
       "      <td>10.0</td>\n",
       "    </tr>\n",
       "    <tr>\n",
       "      <th>1085</th>\n",
       "      <td>1971.159606</td>\n",
       "      <td>000f7e1bee6c4166a6d82bfdfbbc0e58</td>\n",
       "      <td>213</td>\n",
       "      <td>91491</td>\n",
       "      <td>10.0</td>\n",
       "    </tr>\n",
       "    <tr>\n",
       "      <th>1086</th>\n",
       "      <td>1971.154444</td>\n",
       "      <td>000f7e1bee6c4166a6d82bfdfbbc0e58</td>\n",
       "      <td>213</td>\n",
       "      <td>91491</td>\n",
       "      <td>10.0</td>\n",
       "    </tr>\n",
       "    <tr>\n",
       "      <th>1087</th>\n",
       "      <td>1971.149271</td>\n",
       "      <td>000f7e1bee6c4166a6d82bfdfbbc0e58</td>\n",
       "      <td>213</td>\n",
       "      <td>91491</td>\n",
       "      <td>10.0</td>\n",
       "    </tr>\n",
       "    <tr>\n",
       "      <th>1262</th>\n",
       "      <td>2042.131181</td>\n",
       "      <td>000fa3946d9d0cd60bbc46d99696a5ca</td>\n",
       "      <td>213</td>\n",
       "      <td>605794</td>\n",
       "      <td>31.0</td>\n",
       "    </tr>\n",
       "    <tr>\n",
       "      <th>1263</th>\n",
       "      <td>2042.131424</td>\n",
       "      <td>000fa3946d9d0cd60bbc46d99696a5ca</td>\n",
       "      <td>213</td>\n",
       "      <td>90756</td>\n",
       "      <td>40.0</td>\n",
       "    </tr>\n",
       "    <tr>\n",
       "      <th>1279</th>\n",
       "      <td>2082.922014</td>\n",
       "      <td>001156735781577103a562dd7487d876</td>\n",
       "      <td>213</td>\n",
       "      <td>90805</td>\n",
       "      <td>21.0</td>\n",
       "    </tr>\n",
       "    <tr>\n",
       "      <th>1336</th>\n",
       "      <td>2081.477824</td>\n",
       "      <td>0012f25a1f01cffc352294619250cd13</td>\n",
       "      <td>10839</td>\n",
       "      <td>91441</td>\n",
       "      <td>10.0</td>\n",
       "    </tr>\n",
       "    <tr>\n",
       "      <th>1335</th>\n",
       "      <td>2081.477963</td>\n",
       "      <td>0012f25a1f01cffc352294619250cd13</td>\n",
       "      <td>10839</td>\n",
       "      <td>91441</td>\n",
       "      <td>10.0</td>\n",
       "    </tr>\n",
       "    <tr>\n",
       "      <th>1334</th>\n",
       "      <td>2081.478067</td>\n",
       "      <td>0012f25a1f01cffc352294619250cd13</td>\n",
       "      <td>10839</td>\n",
       "      <td>91441</td>\n",
       "      <td>10.0</td>\n",
       "    </tr>\n",
       "    <tr>\n",
       "      <th>1333</th>\n",
       "      <td>2081.479491</td>\n",
       "      <td>0012f25a1f01cffc352294619250cd13</td>\n",
       "      <td>10839</td>\n",
       "      <td>91441</td>\n",
       "      <td>10.0</td>\n",
       "    </tr>\n",
       "    <tr>\n",
       "      <th>1332</th>\n",
       "      <td>2081.479815</td>\n",
       "      <td>0012f25a1f01cffc352294619250cd13</td>\n",
       "      <td>10839</td>\n",
       "      <td>91441</td>\n",
       "      <td>10.0</td>\n",
       "    </tr>\n",
       "    <tr>\n",
       "      <th>1331</th>\n",
       "      <td>1930.293021</td>\n",
       "      <td>0012f25a1f01cffc352294619250cd13</td>\n",
       "      <td>10839</td>\n",
       "      <td>90829</td>\n",
       "      <td>18.0</td>\n",
       "    </tr>\n",
       "    <tr>\n",
       "      <th>1495</th>\n",
       "      <td>1963.360347</td>\n",
       "      <td>0014bd602c3732af8d8280f3e1acba34</td>\n",
       "      <td>0</td>\n",
       "      <td>90521</td>\n",
       "      <td>10.0</td>\n",
       "    </tr>\n",
       "    <tr>\n",
       "      <th>1496</th>\n",
       "      <td>1963.361366</td>\n",
       "      <td>0014bd602c3732af8d8280f3e1acba34</td>\n",
       "      <td>213</td>\n",
       "      <td>90521</td>\n",
       "      <td>21.0</td>\n",
       "    </tr>\n",
       "    <tr>\n",
       "      <th>1642</th>\n",
       "      <td>1915.454641</td>\n",
       "      <td>00171bc1d3983650095137b2a7bdf70b</td>\n",
       "      <td>2</td>\n",
       "      <td>91491</td>\n",
       "      <td>10.0</td>\n",
       "    </tr>\n",
       "    <tr>\n",
       "      <th>1641</th>\n",
       "      <td>1915.455509</td>\n",
       "      <td>00171bc1d3983650095137b2a7bdf70b</td>\n",
       "      <td>2</td>\n",
       "      <td>91491</td>\n",
       "      <td>10.0</td>\n",
       "    </tr>\n",
       "    <tr>\n",
       "      <th>1640</th>\n",
       "      <td>1915.455926</td>\n",
       "      <td>00171bc1d3983650095137b2a7bdf70b</td>\n",
       "      <td>2</td>\n",
       "      <td>91491</td>\n",
       "      <td>10.0</td>\n",
       "    </tr>\n",
       "    <tr>\n",
       "      <th>1639</th>\n",
       "      <td>1920.140787</td>\n",
       "      <td>00171bc1d3983650095137b2a7bdf70b</td>\n",
       "      <td>2</td>\n",
       "      <td>91491</td>\n",
       "      <td>10.0</td>\n",
       "    </tr>\n",
       "    <tr>\n",
       "      <th>1638</th>\n",
       "      <td>1966.099954</td>\n",
       "      <td>00171bc1d3983650095137b2a7bdf70b</td>\n",
       "      <td>2</td>\n",
       "      <td>91027</td>\n",
       "      <td>10.0</td>\n",
       "    </tr>\n",
       "    <tr>\n",
       "      <th>1637</th>\n",
       "      <td>1969.320150</td>\n",
       "      <td>00171bc1d3983650095137b2a7bdf70b</td>\n",
       "      <td>2</td>\n",
       "      <td>91013</td>\n",
       "      <td>10.0</td>\n",
       "    </tr>\n",
       "    <tr>\n",
       "      <th>1636</th>\n",
       "      <td>1969.320405</td>\n",
       "      <td>00171bc1d3983650095137b2a7bdf70b</td>\n",
       "      <td>2</td>\n",
       "      <td>91013</td>\n",
       "      <td>10.0</td>\n",
       "    </tr>\n",
       "    <tr>\n",
       "      <th>1629</th>\n",
       "      <td>1971.345764</td>\n",
       "      <td>00171bc1d3983650095137b2a7bdf70b</td>\n",
       "      <td>2</td>\n",
       "      <td>723087</td>\n",
       "      <td>50.0</td>\n",
       "    </tr>\n",
       "    <tr>\n",
       "      <th>1634</th>\n",
       "      <td>1944.250521</td>\n",
       "      <td>00171bc1d3983650095137b2a7bdf70b</td>\n",
       "      <td>2</td>\n",
       "      <td>90569</td>\n",
       "      <td>11.0</td>\n",
       "    </tr>\n",
       "    <tr>\n",
       "      <th>1633</th>\n",
       "      <td>1944.250868</td>\n",
       "      <td>00171bc1d3983650095137b2a7bdf70b</td>\n",
       "      <td>2</td>\n",
       "      <td>90569</td>\n",
       "      <td>10.0</td>\n",
       "    </tr>\n",
       "    <tr>\n",
       "      <th>1632</th>\n",
       "      <td>1916.370046</td>\n",
       "      <td>00171bc1d3983650095137b2a7bdf70b</td>\n",
       "      <td>2</td>\n",
       "      <td>90560</td>\n",
       "      <td>10.0</td>\n",
       "    </tr>\n",
       "    <tr>\n",
       "      <th>1631</th>\n",
       "      <td>1922.056713</td>\n",
       "      <td>00171bc1d3983650095137b2a7bdf70b</td>\n",
       "      <td>2</td>\n",
       "      <td>90490</td>\n",
       "      <td>10.0</td>\n",
       "    </tr>\n",
       "  </tbody>\n",
       "</table>\n",
       "<p>100 rows × 5 columns</p>\n",
       "</div>"
      ],
      "text/plain": [
       "        timestamp                                id geo_id category  price\n",
       "64    2192.416505  00023fcc5c93cb4674bdad0d448272e6    213  2662954   30.0\n",
       "88    2242.396632  00023fcc5c93cb4674bdad0d448272e6    213    90984   14.0\n",
       "87    2242.399097  00023fcc5c93cb4674bdad0d448272e6    213    90976    9.0\n",
       "86    2238.951238  00023fcc5c93cb4674bdad0d448272e6    213    90976   10.0\n",
       "84    2177.490671  00023fcc5c93cb4674bdad0d448272e6    213    90829   20.0\n",
       "83    2242.397188  00023fcc5c93cb4674bdad0d448272e6    213    90829   12.0\n",
       "82    1970.921042  00023fcc5c93cb4674bdad0d448272e6    213    90783   16.0\n",
       "81    1970.920648  00023fcc5c93cb4674bdad0d448272e6    213    90783   11.0\n",
       "80    1975.076424  00023fcc5c93cb4674bdad0d448272e6    213    90783   11.0\n",
       "79    1975.077396  00023fcc5c93cb4674bdad0d448272e6    213    90783   11.0\n",
       "78    1970.919097  00023fcc5c93cb4674bdad0d448272e6    213    90783   10.0\n",
       "77    1975.074988  00023fcc5c93cb4674bdad0d448272e6    213    90783   10.0\n",
       "85    2242.015162  00023fcc5c93cb4674bdad0d448272e6    213    90857    8.0\n",
       "75    2173.463426  00023fcc5c93cb4674bdad0d448272e6    213    90738   10.0\n",
       "74    2173.466875  00023fcc5c93cb4674bdad0d448272e6    213    90738   10.0\n",
       "73    2173.469861  00023fcc5c93cb4674bdad0d448272e6    213    90738   10.0\n",
       "72    2173.470046  00023fcc5c93cb4674bdad0d448272e6    213    90738   10.0\n",
       "71    2178.476204  00023fcc5c93cb4674bdad0d448272e6    213  7812062   10.0\n",
       "70    2170.255741  00023fcc5c93cb4674bdad0d448272e6    213  7286126   73.0\n",
       "69    2170.250185  00023fcc5c93cb4674bdad0d448272e6    213  7286126   10.0\n",
       "68    2195.315081  00023fcc5c93cb4674bdad0d448272e6    213  6427100   80.0\n",
       "67    2194.427373  00023fcc5c93cb4674bdad0d448272e6    213  6427100   10.0\n",
       "66    2194.433391  00023fcc5c93cb4674bdad0d448272e6    213  6427100   10.0\n",
       "65    2195.439086  00023fcc5c93cb4674bdad0d448272e6    213  6427100   10.0\n",
       "76    1975.075486  00023fcc5c93cb4674bdad0d448272e6    213    90783   10.0\n",
       "453   2264.367743  00029bdb868e12bb62b8c574b274dbb7      2    91148   50.0\n",
       "452   2264.359005  00029bdb868e12bb62b8c574b274dbb7      2    91148   10.0\n",
       "451   2264.361100  00029bdb868e12bb62b8c574b274dbb7      2    91148   10.0\n",
       "449   2264.365231  00029bdb868e12bb62b8c574b274dbb7      2    91148   10.0\n",
       "450   2264.361204  00029bdb868e12bb62b8c574b274dbb7      2    91148   10.0\n",
       "...           ...                               ...    ...      ...    ...\n",
       "1047  1985.940729  000cc187d45637f927e56b9fa0ef5f88    213    91491   11.0\n",
       "1082  1971.164896  000f7e1bee6c4166a6d82bfdfbbc0e58    213    91491   10.0\n",
       "1083  1971.162639  000f7e1bee6c4166a6d82bfdfbbc0e58    213    91491   10.0\n",
       "1084  1971.161678  000f7e1bee6c4166a6d82bfdfbbc0e58    213    91491   10.0\n",
       "1085  1971.159606  000f7e1bee6c4166a6d82bfdfbbc0e58    213    91491   10.0\n",
       "1086  1971.154444  000f7e1bee6c4166a6d82bfdfbbc0e58    213    91491   10.0\n",
       "1087  1971.149271  000f7e1bee6c4166a6d82bfdfbbc0e58    213    91491   10.0\n",
       "1262  2042.131181  000fa3946d9d0cd60bbc46d99696a5ca    213   605794   31.0\n",
       "1263  2042.131424  000fa3946d9d0cd60bbc46d99696a5ca    213    90756   40.0\n",
       "1279  2082.922014  001156735781577103a562dd7487d876    213    90805   21.0\n",
       "1336  2081.477824  0012f25a1f01cffc352294619250cd13  10839    91441   10.0\n",
       "1335  2081.477963  0012f25a1f01cffc352294619250cd13  10839    91441   10.0\n",
       "1334  2081.478067  0012f25a1f01cffc352294619250cd13  10839    91441   10.0\n",
       "1333  2081.479491  0012f25a1f01cffc352294619250cd13  10839    91441   10.0\n",
       "1332  2081.479815  0012f25a1f01cffc352294619250cd13  10839    91441   10.0\n",
       "1331  1930.293021  0012f25a1f01cffc352294619250cd13  10839    90829   18.0\n",
       "1495  1963.360347  0014bd602c3732af8d8280f3e1acba34      0    90521   10.0\n",
       "1496  1963.361366  0014bd602c3732af8d8280f3e1acba34    213    90521   21.0\n",
       "1642  1915.454641  00171bc1d3983650095137b2a7bdf70b      2    91491   10.0\n",
       "1641  1915.455509  00171bc1d3983650095137b2a7bdf70b      2    91491   10.0\n",
       "1640  1915.455926  00171bc1d3983650095137b2a7bdf70b      2    91491   10.0\n",
       "1639  1920.140787  00171bc1d3983650095137b2a7bdf70b      2    91491   10.0\n",
       "1638  1966.099954  00171bc1d3983650095137b2a7bdf70b      2    91027   10.0\n",
       "1637  1969.320150  00171bc1d3983650095137b2a7bdf70b      2    91013   10.0\n",
       "1636  1969.320405  00171bc1d3983650095137b2a7bdf70b      2    91013   10.0\n",
       "1629  1971.345764  00171bc1d3983650095137b2a7bdf70b      2   723087   50.0\n",
       "1634  1944.250521  00171bc1d3983650095137b2a7bdf70b      2    90569   11.0\n",
       "1633  1944.250868  00171bc1d3983650095137b2a7bdf70b      2    90569   10.0\n",
       "1632  1916.370046  00171bc1d3983650095137b2a7bdf70b      2    90560   10.0\n",
       "1631  1922.056713  00171bc1d3983650095137b2a7bdf70b      2    90490   10.0\n",
       "\n",
       "[100 rows x 5 columns]"
      ]
     },
     "execution_count": 143,
     "metadata": {},
     "output_type": "execute_result"
    }
   ],
   "source": [
    "data.head(100)"
   ]
  },
  {
   "cell_type": "code",
   "execution_count": 152,
   "metadata": {},
   "outputs": [
    {
     "data": {
      "text/plain": [
       "array([     1,      2,      3, ..., 127497, 127498, 127499])"
      ]
     },
     "execution_count": 152,
     "metadata": {},
     "output_type": "execute_result"
    }
   ],
   "source": [
    "geo_data['id'].unique()"
   ]
  },
  {
   "cell_type": "code",
   "execution_count": null,
   "metadata": {},
   "outputs": [],
   "source": []
  }
 ],
 "metadata": {
  "kernelspec": {
   "display_name": "Python 3",
   "language": "python",
   "name": "python3"
  },
  "language_info": {
   "codemirror_mode": {
    "name": "ipython",
    "version": 3
   },
   "file_extension": ".py",
   "mimetype": "text/x-python",
   "name": "python",
   "nbconvert_exporter": "python",
   "pygments_lexer": "ipython3",
   "version": "3.6.4"
  }
 },
 "nbformat": 4,
 "nbformat_minor": 2
}
